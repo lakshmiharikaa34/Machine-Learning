{
 "cells": [
  {
   "cell_type": "code",
   "execution_count": 1,
   "id": "cd4f1873-ef76-4a3f-8e10-5b4a890d7bdd",
   "metadata": {},
   "outputs": [],
   "source": [
    "import numpy as np\n",
    "import pandas as pd\n",
    "import cv2\n",
    "import os"
   ]
  },
  {
   "cell_type": "code",
   "execution_count": 2,
   "id": "ef979673-26ed-4ab3-a470-534a65d7031f",
   "metadata": {},
   "outputs": [
    {
     "data": {
      "text/plain": [
       "['cat', 'cat.mp4', 'dog', 'dog.mp4', 'tiger', 'tiger.mp4']"
      ]
     },
     "execution_count": 2,
     "metadata": {},
     "output_type": "execute_result"
    }
   ],
   "source": [
    "# checking thee files in the folder\n",
    "\n",
    "list1 = os.listdir(r\"H:\\innomatics\\ML\\ML Class\\Video_data\")\n",
    "list1"
   ]
  },
  {
   "cell_type": "code",
   "execution_count": 3,
   "id": "70b6fb72-9684-4b17-a429-6c624d5c1000",
   "metadata": {},
   "outputs": [
    {
     "data": {
      "text/plain": [
       "['cat.mp4', 'dog.mp4', 'tiger.mp4']"
      ]
     },
     "execution_count": 3,
     "metadata": {},
     "output_type": "execute_result"
    }
   ],
   "source": [
    "# Extracting only video data\n",
    "\n",
    "videos_list = []\n",
    "for i in list1:\n",
    "    if i.endswith(\".mp4\"):\n",
    "        videos_list.append(i)\n",
    "\n",
    "videos_list"
   ]
  },
  {
   "cell_type": "code",
   "execution_count": 4,
   "id": "d849f301-f0fb-4643-afb0-b319f3c17981",
   "metadata": {},
   "outputs": [],
   "source": [
    "for video in videos_list:\n",
    "    vid = cv2.VideoCapture(r\"H:\\innomatics\\ML\\ML Class\\Video_data\\{}\".format(video))\n",
    "\n",
    "    c = 0\n",
    "    while True:\n",
    "        succ, img = vid.read()\n",
    "\n",
    "        if succ == False:\n",
    "            break\n",
    "\n",
    "        cv2.imwrite(r\"H:\\innomatics\\ML\\ML Class\\Video_data\\{}\\{}{}.jpg\".format(video.split(\".\")[0],video.split(\".\")[0],c),img)\n",
    "        c = c + 1\n",
    "    \n",
    "    if cv2.waitKey(1) & 255 == ord(\"q\"):\n",
    "        break\n",
    "\n",
    "    cv2.destroyAllWindows()"
   ]
  },
  {
   "cell_type": "markdown",
   "id": "2deecfb6-ba20-4acb-8659-60fc0b4f9f8a",
   "metadata": {},
   "source": [
    "#### Converting all the  extrated images from video into tabular data"
   ]
  },
  {
   "cell_type": "code",
   "execution_count": 6,
   "id": "02c85b07-24f4-47f7-b6be-92ca6e8378a1",
   "metadata": {},
   "outputs": [
    {
     "data": {
      "text/plain": [
       "['cat', 'dog', 'tiger']"
      ]
     },
     "execution_count": 6,
     "metadata": {},
     "output_type": "execute_result"
    }
   ],
   "source": [
    "videos_list = []\n",
    "for i in range(len(list1)):\n",
    "    if i%2 == 0:\n",
    "        videos_list.append(list1[i])\n",
    "\n",
    "videos_list"
   ]
  },
  {
   "cell_type": "code",
   "execution_count": 7,
   "id": "d02076a7-0355-4e1c-af2a-d0fe34e34be9",
   "metadata": {},
   "outputs": [],
   "source": [
    "features = []\n",
    "class_labels = []\n",
    "for folder in videos_list:\n",
    "    for images in os.listdir(r\"H:\\innomatics\\ML\\ML Class\\Video_data\\{}\".format(folder)):\n",
    "        img = cv2.imread(r\"H:\\innomatics\\ML\\ML Class\\Video_data\\{}\\{}\".format(folder,images),0)\n",
    "        img = cv2.resize(img, (300,600))    # Resizing the Image\n",
    "        img = img.flatten()    # Flattening tha Image\n",
    "        features.append(img)\n",
    "        class_labels.append(folder)\n",
    "    "
   ]
  },
  {
   "cell_type": "code",
   "execution_count": 8,
   "id": "3138904a-0d3c-40dd-b1e1-af48dcef59cd",
   "metadata": {},
   "outputs": [
    {
     "name": "stdout",
     "output_type": "stream",
     "text": [
      "1245\n",
      "1245\n"
     ]
    }
   ],
   "source": [
    "print(len(features))\n",
    "print(len(class_labels))"
   ]
  },
  {
   "cell_type": "code",
   "execution_count": null,
   "id": "b0211ecc-9a00-4cec-876c-acd40a6e35a3",
   "metadata": {},
   "outputs": [],
   "source": [
    "final_data = pd.DataFrame(features) "
   ]
  },
  {
   "cell_type": "code",
   "execution_count": null,
   "id": "f89c6d67-e80d-4ed0-ac81-65435c4f88c3",
   "metadata": {},
   "outputs": [],
   "source": [
    "final_data[\"class_labels\"] = class_labels"
   ]
  },
  {
   "cell_type": "code",
   "execution_count": null,
   "id": "2751101d-a577-40c4-ac5c-682c4c25a918",
   "metadata": {},
   "outputs": [],
   "source": [
    "final_data.shape"
   ]
  },
  {
   "cell_type": "code",
   "execution_count": null,
   "id": "d1b1c45f-c921-400d-b234-022b9fd64e14",
   "metadata": {},
   "outputs": [],
   "source": [
    "final_data.info()"
   ]
  },
  {
   "cell_type": "code",
   "execution_count": null,
   "id": "db1a296d-2b72-4436-98ec-9df50c2f59eb",
   "metadata": {},
   "outputs": [],
   "source": [
    "final_data"
   ]
  }
 ],
 "metadata": {
  "kernelspec": {
   "display_name": "Python 3 (ipykernel)",
   "language": "python",
   "name": "python3"
  },
  "language_info": {
   "codemirror_mode": {
    "name": "ipython",
    "version": 3
   },
   "file_extension": ".py",
   "mimetype": "text/x-python",
   "name": "python",
   "nbconvert_exporter": "python",
   "pygments_lexer": "ipython3",
   "version": "3.12.7"
  }
 },
 "nbformat": 4,
 "nbformat_minor": 5
}
